{
 "cells": [
  {
   "cell_type": "markdown",
   "metadata": {},
   "source": [
    "# if,elif e else       \n",
    "        \n",
    "If em Python nos permite contar ao computador para executar ações alternativas com base em um determinado conjunto de resultados.\n",
    "Verbalmente, podemos imaginar que estamos informando o computador:\n",
    "\n",
    "\"Ei, se isso caso acontecer, execute alguma ação\"\n",
    "Podemos então expandir a idéia com declarações elif e else, o que nos permite contar ao computador:\n",
    "\n",
    "\"Ei, se esse caso acontecer, execute alguma ação. Caso contrário, se aquilo dali acontecer, execute alguma outra ação. Caso contrário, nenhum dos casos acima aconteceu, execute esta ação\"\n",
    "Avançemos e vejamos o formato de sintaxe para as instruções if para ter uma idéia melhor disso:\n",
    "\n",
    "     if case1:\n",
    "         executar ação1\n",
    "     elif case2:\n",
    "         execute ação2\n",
    "     else:\n",
    "         execute a ação 3"
   ]
  },
  {
   "cell_type": "markdown",
   "metadata": {},
   "source": [
    "## Primeiro exemplo\n",
    "\n",
    "Vamos ver um exemplo rápido disso:"
   ]
  },
  {
   "cell_type": "code",
   "execution_count": 1,
   "metadata": {},
   "outputs": [
    {
     "name": "stdout",
     "output_type": "stream",
     "text": [
      "It was true!\n"
     ]
    }
   ],
   "source": [
    "if True:\n",
    "    print('It was true!')"
   ]
  },
  {
   "cell_type": "markdown",
   "metadata": {},
   "source": [
    "Vamos adicionar outra lógica:"
   ]
  },
  {
   "cell_type": "code",
   "execution_count": 2,
   "metadata": {},
   "outputs": [
    {
     "name": "stdout",
     "output_type": "stream",
     "text": [
      "I will be printed in any case where x is not true\n"
     ]
    }
   ],
   "source": [
    "x = False\n",
    "\n",
    "if x:\n",
    "    print('x was True!')\n",
    "else:\n",
    "    print('I will be printed in any case where x is not true')"
   ]
  },
  {
   "cell_type": "markdown",
   "metadata": {},
   "source": [
    "### Múltiplos ramos\n",
    "\n",
    "Vamos ver de forma mais completa de quão longe if, elif, e else podem nos levar!\n",
    "Nós escrevemos isso em uma estrutura aninhada. Tome nota de como o if, elif e else se alinham no código. Isso pode ajudá-lo a ver o que se relaciona com o elif ou outras afirmações.\n",
    "\n",
    "Vamos reintroduzir uma sintaxe de comparação para o Python."
   ]
  },
  {
   "cell_type": "code",
   "execution_count": 4,
   "metadata": {},
   "outputs": [
    {
     "name": "stdout",
     "output_type": "stream",
     "text": [
      "Welcome to the bank!\n"
     ]
    }
   ],
   "source": [
    "loc = 'Bank'\n",
    "\n",
    "if loc == 'Auto Shop':\n",
    "    print('Welcome to the Auto Shop!')\n",
    "elif loc == 'Bank':\n",
    "    print('Welcome to the bank!')\n",
    "else:\n",
    "    print(\"Where are you?\")"
   ]
  },
  {
   "cell_type": "markdown",
   "metadata": {},
   "source": [
    "Observe como as declarações if aninhadas são verificadas até que um booleano True faça com que o código aninhado abaixo seja executado. Você também deve notar que você pode colocar as declarações elif quanto desejar antes de fechar com outra.\n",
    "\n",
    "Vamos criar dois exemplos mais simples para as afirmações if, elif e else:"
   ]
  },
  {
   "cell_type": "code",
   "execution_count": 5,
   "metadata": {},
   "outputs": [
    {
     "name": "stdout",
     "output_type": "stream",
     "text": [
      "Welcome Sammy!\n"
     ]
    }
   ],
   "source": [
    "person = 'Sammy'\n",
    "\n",
    "if person == 'Sammy':\n",
    "    print('Welcome Sammy!')\n",
    "else:\n",
    "    print(\"Welcome, what's your name?\")"
   ]
  },
  {
   "cell_type": "code",
   "execution_count": 6,
   "metadata": {},
   "outputs": [
    {
     "name": "stdout",
     "output_type": "stream",
     "text": [
      "Welcome George!\n"
     ]
    }
   ],
   "source": [
    "person = 'George'\n",
    "\n",
    "if person == 'Sammy':\n",
    "    print('Welcome Sammy!')\n",
    "elif person =='George':\n",
    "    print(\"Welcome George!\")\n",
    "else:\n",
    "    print(\"Welcome, what's your name?\")"
   ]
  },
  {
   "cell_type": "markdown",
   "metadata": {},
   "source": [
    "## Indentação\n",
    "\n",
    "É importante manter uma boa compreensão de como o recuo funciona no Python para manter a estrutura e a ordem do seu código. Vamos voltar a tocar neste tópico quando começarmos a criar funções!"
   ]
  },
  {
   "cell_type": "code",
   "execution_count": 3,
   "metadata": {},
   "outputs": [
    {
     "name": "stdout",
     "output_type": "stream",
     "text": [
      "Player is [X] and computer is [O]\n",
      "  |   |   \n",
      "---------\n",
      "  |   |   \n",
      "---------\n",
      "  |   |   \n",
      "---------\n",
      "# Make your move ! [1-9] : 1\n",
      "X |   |   \n",
      "---------\n",
      "  |   |   \n",
      "---------\n",
      "O |   |   \n",
      "---------\n",
      "# Make your move ! [1-9] : 2\n",
      "X | X | O \n",
      "---------\n",
      "  |   |   \n",
      "---------\n",
      "O |   |   \n",
      "---------\n",
      "# Make your move ! [1-9] : 3\n",
      " >> Invalid number ! Try again !\n",
      "X | X | O \n",
      "---------\n",
      "  |   |   \n",
      "---------\n",
      "O |   |   \n",
      "---------\n",
      "# Make your move ! [1-9] : 4\n",
      "X | X | O \n",
      "---------\n",
      "X | O |   \n",
      "---------\n",
      "O |   |   \n",
      "---------\n",
      "=== You lose ! ==\n"
     ]
    }
   ],
   "source": [
    "#!/usr/bin/python3\n",
    "# Simple TicTacToe game in Python - EAO\n",
    "import random\n",
    "import sys\n",
    "\n",
    "board=[i for i in range(0,9)]\n",
    "player, computer = '',''\n",
    "\n",
    "# Corners, Center and Others, respectively\n",
    "moves=((1,7,3,9),(5,),(2,4,6,8))\n",
    "# Winner combinations\n",
    "winners=((0,1,2),(3,4,5),(6,7,8),(0,3,6),(1,4,7),(2,5,8),(0,4,8),(2,4,6))\n",
    "# Table\n",
    "tab=range(1,10)\n",
    "\n",
    "def print_board():\n",
    "    x=1\n",
    "    for i in board:\n",
    "        end = ' | '\n",
    "        if x%3 == 0:\n",
    "            end = ' \\n'\n",
    "            if i != 1: end+='---------\\n';\n",
    "        char=' '\n",
    "        if i in ('X','O'): char=i;\n",
    "        x+=1\n",
    "        print(char,end=end)\n",
    "        \n",
    "def select_char():\n",
    "    chars=('X','O')\n",
    "    if random.randint(0,1) == 0:\n",
    "        return chars[::-1]\n",
    "    return chars\n",
    "\n",
    "def can_move(brd, player, move):\n",
    "    if move in tab and brd[move-1] == move-1:\n",
    "        return True\n",
    "    return False\n",
    "\n",
    "def can_win(brd, player, move):\n",
    "    places=[]\n",
    "    x=0\n",
    "    for i in brd:\n",
    "        if i == player: places.append(x);\n",
    "        x+=1\n",
    "    win=True\n",
    "    for tup in winners:\n",
    "        win=True\n",
    "        for ix in tup:\n",
    "            if brd[ix] != player:\n",
    "                win=False\n",
    "                break\n",
    "        if win == True:\n",
    "            break\n",
    "    return win\n",
    "\n",
    "def make_move(brd, player, move, undo=False):\n",
    "    if can_move(brd, player, move):\n",
    "        brd[move-1] = player\n",
    "        win=can_win(brd, player, move)\n",
    "        if undo:\n",
    "            brd[move-1] = move-1\n",
    "        return (True, win)\n",
    "    return (False, False)\n",
    "\n",
    "# AI goes here\n",
    "def computer_move():\n",
    "    move=-1\n",
    "    # If I can win, others don't matter.\n",
    "    for i in range(1,10):\n",
    "        if make_move(board, computer, i, True)[1]:\n",
    "            move=i\n",
    "            break\n",
    "    if move == -1:\n",
    "        # If player can win, block him.\n",
    "        for i in range(1,10):\n",
    "            if make_move(board, player, i, True)[1]:\n",
    "                move=i\n",
    "                break\n",
    "    if move == -1:\n",
    "        # Otherwise, try to take one of desired places.\n",
    "        for tup in moves:\n",
    "            for mv in tup:\n",
    "                if move == -1 and can_move(board, computer, mv):\n",
    "                    move=mv\n",
    "                    break\n",
    "    return make_move(board, computer, move)\n",
    "\n",
    "def space_exist():\n",
    "    return board.count('X') + board.count('O') != 9\n",
    "\n",
    "player, computer = select_char()\n",
    "print('Player is [%s] and computer is [%s]' % (player, computer))\n",
    "result='%%% Deuce ! %%%'\n",
    "while space_exist():\n",
    "    print_board()\n",
    "    print('# Make your move ! [1-9] : ', end='')\n",
    "    move = int(input())\n",
    "    moved, won = make_move(board, player, move)\n",
    "    if not moved:\n",
    "        print(' >> Invalid number ! Try again !')\n",
    "        continue\n",
    "    #\n",
    "    if won:\n",
    "        result='*** Congratulations ! You won ! ***'\n",
    "        break\n",
    "    elif computer_move()[1]:\n",
    "        result='=== You lose ! =='\n",
    "        break;\n",
    "\n",
    "print_board()\n",
    "print(result)"
   ]
  },
  {
   "cell_type": "code",
   "execution_count": null,
   "metadata": {},
   "outputs": [],
   "source": []
  }
 ],
 "metadata": {
  "kernelspec": {
   "display_name": "Python 3",
   "language": "python",
   "name": "python3"
  },
  "language_info": {
   "codemirror_mode": {
    "name": "ipython",
    "version": 3
   },
   "file_extension": ".py",
   "mimetype": "text/x-python",
   "name": "python",
   "nbconvert_exporter": "python",
   "pygments_lexer": "ipython3",
   "version": "3.7.4"
  }
 },
 "nbformat": 4,
 "nbformat_minor": 1
}
